{
 "cells": [
  {
   "cell_type": "code",
   "execution_count": 1,
   "metadata": {},
   "outputs": [],
   "source": [
    "from selenium import webdriver\n",
    "from requests import session\n",
    "from lxml.html import fromstring\n",
    "from time import sleep\n",
    "import csv,json,os,sys"
   ]
  },
  {
   "cell_type": "markdown",
   "metadata": {},
   "source": [
    "Get Login to https://www.codewars.com/"
   ]
  },
  {
   "cell_type": "code",
   "execution_count": 2,
   "metadata": {},
   "outputs": [],
   "source": [
    "# Read creds from config file\n",
    "with open('config.json') as json_data_file:\n",
    "    config = json.load(json_data_file)\n",
    "\n",
    "email = config['email']\n",
    "password = config['password']"
   ]
  },
  {
   "cell_type": "markdown",
   "metadata": {},
   "source": [
    "Login Code"
   ]
  },
  {
   "cell_type": "code",
   "execution_count": 3,
   "metadata": {},
   "outputs": [],
   "source": [
    "headers = {\n",
    "    'authority': 'www.codewars.com',\n",
    "    'accept': 'text/html,application/xhtml+xml,application/xml;q=0.9,image/webp,image/apng,*/*;q=0.8,application/signed-exchange;v=b3;q=0.7',\n",
    "    'accept-language': 'en-US,en;q=0.9',\n",
    "    'cache-control': 'max-age=0',\n",
    "    'content-type': 'application/x-www-form-urlencoded',\n",
    "    'origin': 'https://www.codewars.com',\n",
    "    'referer': 'https://www.codewars.com/users/sign_in',\n",
    "    'sec-ch-ua': '\"Not_A Brand\";v=\"8\", \"Chromium\";v=\"120\", \"Microsoft Edge\";v=\"120\"',\n",
    "    'sec-ch-ua-mobile': '?0',\n",
    "    'sec-ch-ua-platform': '\"Windows\"',\n",
    "    'sec-fetch-dest': 'document',\n",
    "    'sec-fetch-mode': 'navigate',\n",
    "    'sec-fetch-site': 'same-origin',\n",
    "    'sec-fetch-user': '?1',\n",
    "    'upgrade-insecure-requests': '1',\n",
    "    'user-agent': 'Mozilla/5.0 (Windows NT 10.0; Win64; x64) AppleWebKit/537.36 (KHTML, like Gecko) Chrome/120.0.0.0 Safari/537.36 Edg/120.0.0.0',\n",
    "}\n",
    "sess = session()\n",
    "sess.headers.update(headers)"
   ]
  },
  {
   "cell_type": "code",
   "execution_count": 4,
   "metadata": {},
   "outputs": [
    {
     "data": {
      "text/plain": [
       "'75b90/lVDjhM0T8GEzF0gpE9BUolM59cjtjcyEP4gze4fsU5ZB7ZvR8pCV2OI9oV+IynEXuQn+gCCfGesAXp5w=='"
      ]
     },
     "execution_count": 4,
     "metadata": {},
     "output_type": "execute_result"
    }
   ],
   "source": [
    "# Get authenticity_token\n",
    "login_page_resp = sess.get('https://www.codewars.com/users/sign_in')\n",
    "login_page = fromstring(login_page_resp.text)\n",
    "authenticity_token = login_page.xpath('//input[@name=\"authenticity_token\"]/@value')[0]\n",
    "authenticity_token"
   ]
  },
  {
   "cell_type": "code",
   "execution_count": 5,
   "metadata": {},
   "outputs": [
    {
     "data": {
      "text/plain": [
       "<Response [200]>"
      ]
     },
     "execution_count": 5,
     "metadata": {},
     "output_type": "execute_result"
    }
   ],
   "source": [
    "\n",
    "\n",
    "\n",
    "\n",
    "data = {\n",
    "  'utf8': '\\u2713',\n",
    "  'authenticity_token': str,\n",
    "  'user[email]': str,\n",
    "  'user[password]': str,\n",
    "  'user[remember_me]': 'true'\n",
    "}\n",
    "data['authenticity_token'] = authenticity_token\n",
    "data['user[email]'] = email\n",
    "data['user[password]'] = password\n",
    "\n",
    "login_resp = sess.post('https://www.codewars.com/users/sign_in', headers=headers, data=data)\n",
    "\n",
    "login_resp"
   ]
  },
  {
   "cell_type": "code",
   "execution_count": 6,
   "metadata": {},
   "outputs": [],
   "source": [
    "# write response html\n",
    "with open('login.html', 'w', encoding='UTF-8') as f:\n",
    "    f.write(login_resp.text)"
   ]
  },
  {
   "cell_type": "code",
   "execution_count": 7,
   "metadata": {},
   "outputs": [
    {
     "data": {
      "text/plain": [
       "'https://www.codewars.com/dashboard'"
      ]
     },
     "execution_count": 7,
     "metadata": {},
     "output_type": "execute_result"
    }
   ],
   "source": [
    "login_resp.url"
   ]
  },
  {
   "cell_type": "markdown",
   "metadata": {},
   "source": [
    "Scrap Solutions"
   ]
  },
  {
   "cell_type": "code",
   "execution_count": 10,
   "metadata": {},
   "outputs": [
    {
     "data": {
      "text/plain": [
       "<Response [200]>"
      ]
     },
     "execution_count": 10,
     "metadata": {},
     "output_type": "execute_result"
    }
   ],
   "source": [
    "complete_sols_url = 'https://www.codewars.com/users/Pylogicx/completed_solutions'\n",
    "complete_sols_resp = sess.get(complete_sols_url)\n",
    "complete_sols_resp"
   ]
  },
  {
   "cell_type": "code",
   "execution_count": 12,
   "metadata": {},
   "outputs": [],
   "source": [
    "soupTree = fromstring(complete_sols_resp.text)"
   ]
  },
  {
   "cell_type": "code",
   "execution_count": 18,
   "metadata": {},
   "outputs": [
    {
     "name": "stdout",
     "output_type": "stream",
     "text": [
      "https://www.codewars.com/kata/58dced7b702b805b200000be\n",
      "https://www.codewars.com/kata/59ca8246d751df55cc00014c\n",
      "https://www.codewars.com/kata/58d248c7012397a81800005c\n",
      "https://www.codewars.com/kata/54147087d5c2ebe4f1000805\n",
      "https://www.codewars.com/kata/56f69d9f9400f508fb000ba7\n",
      "https://www.codewars.com/kata/563e320cee5dddcf77000158\n",
      "https://www.codewars.com/kata/55902c5eaa8069a5b4000083\n",
      "https://www.codewars.com/kata/57f24e6a18e9fad8eb000296\n",
      "https://www.codewars.com/kata/515e188a311df01cba000003\n",
      "https://www.codewars.com/kata/57cfdf34902f6ba3d300001e\n",
      "https://www.codewars.com/kata/55edaba99da3a9c84000003b\n",
      "https://www.codewars.com/kata/57f6ad55cca6e045d2000627\n",
      "https://www.codewars.com/kata/5b853229cfde412a470000d0\n",
      "https://www.codewars.com/kata/58261acb22be6e2ed800003a\n",
      "https://www.codewars.com/kata/5899642f6e1b25935d000161\n"
     ]
    }
   ],
   "source": [
    "codewar_domain = 'https://www.codewars.com'\n",
    "kata_items_XPath = '//div/div[@class=\"list-item-solutions\"]'\n",
    "kata_items = soupTree.xpath(kata_items_XPath)\n",
    "for item in kata_items:\n",
    "    title_tag = item.find('./div[@class=\"item-title\"]//a')\n",
    "    title = title_tag.text\n",
    "    kata_url = codewar_domain + title_tag.get('href')\n",
    "    print(kata_url)"
   ]
  },
  {
   "cell_type": "code",
   "execution_count": 22,
   "metadata": {},
   "outputs": [
    {
     "data": {
      "text/plain": [
       "[]"
      ]
     },
     "execution_count": 22,
     "metadata": {},
     "output_type": "execute_result"
    }
   ],
   "source": [
    "# get kata description\n",
    "kata_desc_resp = sess.get(kata_url)\n",
    "# write resp to html\n",
    "with open('kata_desc.html', 'w', encoding='UTF-8') as f:\n",
    "    f.write(kata_desc_resp.text)\n",
    "\n",
    "soupTree_desc = fromstring(kata_desc_resp.text)\n",
    "# desc_XPath = '//h3[text()=\"Description:\"]/following-sibling::div/p'\n",
    "desc_XPath = '//div[@id=\"description\"]/p'\n",
    "desc = soupTree_desc.xpath(desc_XPath)\n",
    "desc"
   ]
  },
  {
   "cell_type": "code",
   "execution_count": 28,
   "metadata": {},
   "outputs": [
    {
     "data": {
      "text/plain": [
       "'# Rock Paper Scissors\\n\\nLet\\'s play! You have to return which player won! In case of a draw return `Draw!`.\\n\\n**Examples(Input1, Input2 --> Output):**\\n\\n```\\n\"scissors\", \"paper\" --> \"Player 1 won!\"\\n\"scissors\", \"rock\" --> \"Player 2 won!\"\\n\"paper\", \"paper\" --> \"Draw!\"\\n```\\n\\n![rockpaperscissors](http://i.imgur.com/aimOQVX.png)'"
      ]
     },
     "execution_count": 28,
     "metadata": {},
     "output_type": "execute_result"
    }
   ],
   "source": [
    "import requests\n",
    "\n",
    "challenge = '5672a98bdbdd995fad00000f'\n",
    "response = requests.get(f'https://www.codewars.com/api/v1/code-challenges/{challenge}')\n",
    "json_chalange_resp = response.json()\n",
    "description = json_chalange_resp['description']\n",
    "description"
   ]
  }
 ],
 "metadata": {
  "kernelspec": {
   "display_name": "Python 3",
   "language": "python",
   "name": "python3"
  },
  "language_info": {
   "codemirror_mode": {
    "name": "ipython",
    "version": 3
   },
   "file_extension": ".py",
   "mimetype": "text/x-python",
   "name": "python",
   "nbconvert_exporter": "python",
   "pygments_lexer": "ipython3",
   "version": "3.11.3"
  }
 },
 "nbformat": 4,
 "nbformat_minor": 2
}
